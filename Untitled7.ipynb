{
 "cells": [
  {
   "cell_type": "code",
   "execution_count": 1,
   "id": "e8fe0644",
   "metadata": {},
   "outputs": [
    {
     "name": "stdout",
     "output_type": "stream",
     "text": [
      "enter the frist name h\n"
     ]
    }
   ],
   "source": [
    "f=input('enter the frist name ')"
   ]
  },
  {
   "cell_type": "code",
   "execution_count": 2,
   "id": "c24a20d8",
   "metadata": {},
   "outputs": [
    {
     "name": "stdout",
     "output_type": "stream",
     "text": [
      "enter the last name f\n"
     ]
    }
   ],
   "source": [
    "l=input('enter the last name ')"
   ]
  },
  {
   "cell_type": "code",
   "execution_count": 3,
   "id": "941fa947",
   "metadata": {},
   "outputs": [
    {
     "name": "stdout",
     "output_type": "stream",
     "text": [
      "f h\n"
     ]
    }
   ],
   "source": [
    "print(l  +\" \"+  f)"
   ]
  },
  {
   "cell_type": "markdown",
   "id": "289e8ec2",
   "metadata": {},
   "source": [
    "Python: Generate a list and tuple with comma-separated numbers"
   ]
  },
  {
   "cell_type": "code",
   "execution_count": 9,
   "id": "817cb692",
   "metadata": {},
   "outputs": [
    {
     "name": "stdout",
     "output_type": "stream",
     "text": [
      "enter the values1,2,43\n",
      "['1', '2', '43']\n",
      "('1', '2', '43')\n"
     ]
    }
   ],
   "source": [
    "values=input('enter the values')\n",
    "lista=values.split(\",\")\n",
    "tuplea=tuple(lista)\n",
    "print(lista)\n",
    "print(tuplea)"
   ]
  },
  {
   "cell_type": "code",
   "execution_count": null,
   "id": "bf16ab06",
   "metadata": {},
   "outputs": [],
   "source": []
  },
  {
   "cell_type": "code",
   "execution_count": 16,
   "id": "413cc406",
   "metadata": {},
   "outputs": [
    {
     "name": "stdout",
     "output_type": "stream",
     "text": [
      "Input the Filename: wertyhuj.sdfghj\n",
      "The extension of the file is : 'sdfghj'\n"
     ]
    }
   ],
   "source": [
    "filename = input(\"Input the Filename: \")\n",
    "f_extns = filename.split(\".\")\n",
    "print (\"The extension of the file is : \" + repr(f_extns[-1]))"
   ]
  },
  {
   "cell_type": "code",
   "execution_count": null,
   "id": "2d77b6d1",
   "metadata": {},
   "outputs": [],
   "source": []
  }
 ],
 "metadata": {
  "kernelspec": {
   "display_name": "Python 3 (ipykernel)",
   "language": "python",
   "name": "python3"
  },
  "language_info": {
   "codemirror_mode": {
    "name": "ipython",
    "version": 3
   },
   "file_extension": ".py",
   "mimetype": "text/x-python",
   "name": "python",
   "nbconvert_exporter": "python",
   "pygments_lexer": "ipython3",
   "version": "3.9.7"
  }
 },
 "nbformat": 4,
 "nbformat_minor": 5
}
