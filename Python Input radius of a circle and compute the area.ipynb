{
 "cells": [
  {
   "cell_type": "markdown",
   "id": "cb728973",
   "metadata": {},
   "source": [
    "Compute area when radius is given"
   ]
  },
  {
   "cell_type": "code",
   "execution_count": 10,
   "id": "c7b7c568",
   "metadata": {},
   "outputs": [
    {
     "name": "stdout",
     "output_type": "stream",
     "text": [
      "Enter the radius to compute area222.76\n"
     ]
    }
   ],
   "source": [
    "\n",
    "r=float(input(\"Enter the radius to compute area\"))\n",
    "\n"
   ]
  },
  {
   "cell_type": "code",
   "execution_count": 11,
   "id": "f65b115a",
   "metadata": {},
   "outputs": [],
   "source": [
    "area=(3.14*r**2)"
   ]
  },
  {
   "cell_type": "code",
   "execution_count": 12,
   "id": "d4508ebe",
   "metadata": {},
   "outputs": [
    {
     "data": {
      "text/plain": [
       "155813.135264"
      ]
     },
     "execution_count": 12,
     "metadata": {},
     "output_type": "execute_result"
    }
   ],
   "source": [
    "area"
   ]
  },
  {
   "cell_type": "markdown",
   "id": "5e623a73",
   "metadata": {},
   "source": [
    "Compute using round function"
   ]
  },
  {
   "cell_type": "code",
   "execution_count": 15,
   "id": "77f17c5e",
   "metadata": {},
   "outputs": [],
   "source": [
    "area=round(3.14*r**2,1)"
   ]
  },
  {
   "cell_type": "code",
   "execution_count": 16,
   "id": "47321e27",
   "metadata": {},
   "outputs": [
    {
     "data": {
      "text/plain": [
       "155813.1"
      ]
     },
     "execution_count": 16,
     "metadata": {},
     "output_type": "execute_result"
    }
   ],
   "source": [
    "area"
   ]
  },
  {
   "cell_type": "code",
   "execution_count": null,
   "id": "eca199c9",
   "metadata": {},
   "outputs": [],
   "source": []
  },
  {
   "cell_type": "code",
   "execution_count": null,
   "id": "24347cc6",
   "metadata": {},
   "outputs": [],
   "source": []
  }
 ],
 "metadata": {
  "kernelspec": {
   "display_name": "Python 3 (ipykernel)",
   "language": "python",
   "name": "python3"
  },
  "language_info": {
   "codemirror_mode": {
    "name": "ipython",
    "version": 3
   },
   "file_extension": ".py",
   "mimetype": "text/x-python",
   "name": "python",
   "nbconvert_exporter": "python",
   "pygments_lexer": "ipython3",
   "version": "3.9.7"
  }
 },
 "nbformat": 4,
 "nbformat_minor": 5
}
